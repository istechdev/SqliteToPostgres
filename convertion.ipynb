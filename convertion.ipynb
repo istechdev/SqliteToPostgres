{
 "cells": [
  {
   "cell_type": "markdown",
   "metadata": {},
   "source": [
    "Notebook para la conversión de db sqlite to pg"
   ]
  },
  {
   "cell_type": "code",
   "execution_count": 34,
   "metadata": {},
   "outputs": [],
   "source": [
    "import sqlite3\n",
    "import pandas as pd\n",
    "import psycopg2\n",
    "from configparser import ConfigParser"
   ]
  },
  {
   "cell_type": "markdown",
   "metadata": {},
   "source": [
    "Bloque 1: Sqlite Dump File or dataframe"
   ]
  },
  {
   "cell_type": "code",
   "execution_count": 75,
   "metadata": {},
   "outputs": [],
   "source": [
    "database = \"D:/BDD-Sqlite(V1)/app.db\"\n",
    "conn = sqlite3.connect(database)"
   ]
  },
  {
   "cell_type": "code",
   "execution_count": 76,
   "metadata": {},
   "outputs": [],
   "source": [
    "df = pd.read_sql(\"select sql from sqlite_master\", con=conn)\n",
    "df = df.mask(df.eq(None)).dropna()"
   ]
  },
  {
   "cell_type": "code",
   "execution_count": 129,
   "metadata": {},
   "outputs": [
    {
     "name": "stdout",
     "output_type": "stream",
     "text": [
      "CREATE TABLE warehouse (\n",
      "\tid INTEGER NOT NULL \n",
      "\tname VARCHAR(16) \n",
      "\tlocation VARCHAR(16) \n",
      "\tnotes VARCHAR(255) \n",
      "\tsoft_delete BOOLEAN \n",
      "\tPRIMARY KEY (id) \n",
      "\t)\n"
     ]
    }
   ],
   "source": [
    "#for i in df.index:\n",
    "#    print(df['sql'][i])\n",
    "#print(df['sql'][0].index('a'))\n",
    "a = df['sql'][12].replace('CHECK', '@')\n",
    "b = a.replace(a[a.index('@'):len(a)-1], '')\n",
    "print(b.replace(b[len(b)-5], ''))\n",
    "b.index(b[len(b)-5])"
   ]
  },
  {
   "cell_type": "code",
   "execution_count": 20,
   "metadata": {},
   "outputs": [],
   "source": [
    "conn.close()"
   ]
  },
  {
   "cell_type": "markdown",
   "metadata": {},
   "source": [
    "Bloque 2: Dump file or dataframe parse"
   ]
  },
  {
   "cell_type": "code",
   "execution_count": 99,
   "metadata": {},
   "outputs": [
    {
     "ename": "ValueError",
     "evalue": "substring not found",
     "output_type": "error",
     "traceback": [
      "\u001b[1;31m---------------------------------------------------------------------------\u001b[0m",
      "\u001b[1;31mValueError\u001b[0m                                Traceback (most recent call last)",
      "Input \u001b[1;32mIn [99]\u001b[0m, in \u001b[0;36m<cell line: 3>\u001b[1;34m()\u001b[0m\n\u001b[0;32m      7\u001b[0m     aux \u001b[39m=\u001b[39m aux\u001b[39m.\u001b[39mreplace(\u001b[39m'\u001b[39m\u001b[39muser\u001b[39m\u001b[39m'\u001b[39m, \u001b[39m'\u001b[39m\u001b[39muser_\u001b[39m\u001b[39m'\u001b[39m)\n\u001b[0;32m      8\u001b[0m     aux \u001b[39m=\u001b[39m aux\u001b[39m.\u001b[39mreplace(\u001b[39m'\u001b[39m\u001b[39mCHECK\u001b[39m\u001b[39m'\u001b[39m, \u001b[39m'\u001b[39m\u001b[39m@\u001b[39m\u001b[39m'\u001b[39m)\n\u001b[1;32m----> 9\u001b[0m     aux \u001b[39m=\u001b[39m aux\u001b[39m.\u001b[39mreplace(aux[aux\u001b[39m.\u001b[39;49mindex(\u001b[39m'\u001b[39;49m\u001b[39m@\u001b[39;49m\u001b[39m'\u001b[39;49m):], \u001b[39m'\u001b[39m\u001b[39m'\u001b[39m)\n\u001b[0;32m     10\u001b[0m \u001b[39m#    else:\u001b[39;00m\n\u001b[0;32m     11\u001b[0m \u001b[39m#        aux = aux.replace('CHECK', '@')\u001b[39;00m\n\u001b[0;32m     12\u001b[0m \u001b[39m#        b = aux.index('@')\u001b[39;00m\n\u001b[0;32m     13\u001b[0m \u001b[39m#        print(aux.index('@'))\u001b[39;00m\n\u001b[0;32m     14\u001b[0m         \u001b[39m#for j in range(b + 1, len(aux)):\u001b[39;00m\n\u001b[0;32m     15\u001b[0m         \u001b[39m#    aux = aux.replace(aux[j], '')\u001b[39;00m\n\u001b[0;32m     18\u001b[0m     parsed_df\u001b[39m.\u001b[39mappend(aux)\n",
      "\u001b[1;31mValueError\u001b[0m: substring not found"
     ]
    }
   ],
   "source": [
    "df.replace('DATETIME', 'TIMESTAMP')\n",
    "parsed_df = []\n",
    "for i in df.index:\n",
    "#    if(aux.find('CHECK') == -1):\n",
    "    aux = df['sql'][i]\n",
    "    aux = aux.replace('DATETIME', 'TIMESTAMP')\n",
    "    aux = aux.replace('user', 'user_')\n",
    "    aux = aux.replace('CHECK', '@')\n",
    "    aux = aux.replace(aux[aux.index('@'):], '')\n",
    "#    else:\n",
    "#        aux = aux.replace('CHECK', '@')\n",
    "#        b = aux.index('@')\n",
    "#        print(aux.index('@'))\n",
    "        #for j in range(b + 1, len(aux)):\n",
    "        #    aux = aux.replace(aux[j], '')\n",
    "\n",
    "            \n",
    "    parsed_df.append(aux)\n",
    "\n",
    "\n",
    "print(parsed_df)"
   ]
  },
  {
   "cell_type": "markdown",
   "metadata": {},
   "source": [
    "Bloque 3: Creación de base de datos"
   ]
  },
  {
   "cell_type": "markdown",
   "metadata": {},
   "source": [
    "Bloque 4: Dump file to pg"
   ]
  },
  {
   "cell_type": "code",
   "execution_count": 21,
   "metadata": {},
   "outputs": [],
   "source": [
    "def config(archivo='pg.ini', seccion='postgresql'):\n",
    "    # Crear el parser y leer el archivo\n",
    "    parser = ConfigParser()\n",
    "    parser.read(archivo)\n",
    " \n",
    "    # Obtener la sección de conexión a la base de datos\n",
    "    db = {}\n",
    "    if parser.has_section(seccion):\n",
    "        params = parser.items(seccion)\n",
    "        for param in params:\n",
    "            db[param[0]] = param[1]\n",
    "        return db\n",
    "    else:\n",
    "        raise Exception('Secccion {0} no encontrada en el archivo {1}'.format(seccion, archivo))"
   ]
  },
  {
   "cell_type": "code",
   "execution_count": 22,
   "metadata": {},
   "outputs": [],
   "source": [
    "def conectar():\n",
    "    \"\"\" Conexión al servidor de bases de datos PostgreSQL \"\"\"\n",
    "    conexion = None\n",
    "    try:\n",
    "        # Lectura de los parámetros de conexion\n",
    "        params = config()\n",
    " \n",
    "        # Conexion al servidor de PostgreSQL\n",
    "        print('Conectando a la base de datos PostgreSQL...')\n",
    "        print(params)\n",
    "        conexion = psycopg2.connect(**params)\n",
    "        conexion.autocommit = True\n",
    " \n",
    "        # creación del cursor\n",
    "        cur = conexion.cursor()\n",
    "        \n",
    "        # Ejecución de una consulta con la version de PostgreSQL\n",
    "        print('La version de PostgreSQL es la:')\n",
    "        cur.execute('SELECT version()')\n",
    " \n",
    "        # Ahora mostramos la version\n",
    "        version = cur.fetchone()\n",
    "        print(version)\n",
    "       \n",
    "       # Ejecutamos una consulta\n",
    "       ## cur.execute( \"SELECT nombre, apellidos FROM empleados\" )\n",
    "\n",
    "        # Recorremos los resultados y los mostramos\n",
    "        ##for nombre, apellidos in cur.fetchall() :\n",
    "        ##    print (nombre, apellidos)\n",
    "\n",
    "        # Cierre de la comunicación con PostgreSQL\n",
    "        cur.close()\n",
    "    except (Exception, psycopg2.DatabaseError) as error:\n",
    "        print(error)\n",
    "    finally:\n",
    "        if conexion is not None:\n",
    "            \"\"\"conexion.close()\n",
    "            print('Conexión finalizada.')\"\"\""
   ]
  },
  {
   "cell_type": "code",
   "execution_count": 23,
   "metadata": {},
   "outputs": [
    {
     "name": "stdout",
     "output_type": "stream",
     "text": [
      "Conectando a la base de datos PostgreSQL...\n",
      "{'host': '192.168.1.105', 'database': 'Prueba2', 'user': 'gdeluca', 'password': 'gdeluca', 'port': '5432'}\n",
      "La version de PostgreSQL es la:\n",
      "('PostgreSQL 14.2 (Ubuntu 14.2-1ubuntu1) on x86_64-pc-linux-gnu, compiled by gcc (Ubuntu 11.2.0-19ubuntu1) 11.2.0, 64-bit',)\n"
     ]
    }
   ],
   "source": [
    "conectar()"
   ]
  },
  {
   "cell_type": "code",
   "execution_count": 70,
   "metadata": {},
   "outputs": [
    {
     "ename": "UndefinedFunction",
     "evalue": "operator does not exist: boolean = integer\nLINE 14:  CHECK (is_admin IN (0, 1)), \n                          ^\nHINT:  No operator matches the given name and argument types. You might need to add explicit type casts.\n",
     "output_type": "error",
     "traceback": [
      "\u001b[1;31m---------------------------------------------------------------------------\u001b[0m",
      "\u001b[1;31mUndefinedFunction\u001b[0m                         Traceback (most recent call last)",
      "\u001b[1;32md:\\SqliteToPostgres\\convertion.ipynb Cell 15'\u001b[0m in \u001b[0;36m<cell line: 7>\u001b[1;34m()\u001b[0m\n\u001b[0;32m      <a href='vscode-notebook-cell:/d%3A/SqliteToPostgres/convertion.ipynb#ch0000013?line=5'>6</a>\u001b[0m \u001b[39m# Ejecutamos una consulta\u001b[39;00m\n\u001b[0;32m      <a href='vscode-notebook-cell:/d%3A/SqliteToPostgres/convertion.ipynb#ch0000013?line=6'>7</a>\u001b[0m \u001b[39mfor\u001b[39;00m i \u001b[39min\u001b[39;00m \u001b[39mrange\u001b[39m(\u001b[39mlen\u001b[39m(parsed_df)):\n\u001b[1;32m----> <a href='vscode-notebook-cell:/d%3A/SqliteToPostgres/convertion.ipynb#ch0000013?line=7'>8</a>\u001b[0m     cur\u001b[39m.\u001b[39;49mexecute(parsed_df[i])\n\u001b[0;32m     <a href='vscode-notebook-cell:/d%3A/SqliteToPostgres/convertion.ipynb#ch0000013?line=9'>10</a>\u001b[0m \u001b[39m# Recorremos los resultados y los mostramos\u001b[39;00m\n\u001b[0;32m     <a href='vscode-notebook-cell:/d%3A/SqliteToPostgres/convertion.ipynb#ch0000013?line=10'>11</a>\u001b[0m \u001b[39m\"\"\"for id, name in cur.fetchall() :\u001b[39;00m\n\u001b[0;32m     <a href='vscode-notebook-cell:/d%3A/SqliteToPostgres/convertion.ipynb#ch0000013?line=11'>12</a>\u001b[0m \u001b[39m    print(id, name)\"\"\"\u001b[39;00m\n",
      "\u001b[1;31mUndefinedFunction\u001b[0m: operator does not exist: boolean = integer\nLINE 14:  CHECK (is_admin IN (0, 1)), \n                          ^\nHINT:  No operator matches the given name and argument types. You might need to add explicit type casts.\n"
     ]
    }
   ],
   "source": [
    "# Creamos el cursor con el objeto conexion\n",
    "params = config()\n",
    "conexion = psycopg2.connect(**params)\n",
    "conexion.autocommit = True\n",
    "cur = conexion.cursor()\n",
    "# Ejecutamos una consulta\n",
    "for i in range(len(parsed_df)):\n",
    "    cur.execute(parsed_df[i])\n",
    "\n",
    "# Recorremos los resultados y los mostramos\n",
    "\"\"\"for id, name in cur.fetchall() :\n",
    "    print(id, name)\"\"\"\n",
    "\n",
    "# Cerramos la conexión\n",
    "conexion.commit()\n",
    "conexion.close()"
   ]
  }
 ],
 "metadata": {
  "interpreter": {
   "hash": "8f1b688e5dc678ecae4edbf458b512dd7d49e79593819bf17fc264de6db80c5b"
  },
  "kernelspec": {
   "display_name": "Python 3.10.4 64-bit",
   "language": "python",
   "name": "python3"
  },
  "language_info": {
   "codemirror_mode": {
    "name": "ipython",
    "version": 3
   },
   "file_extension": ".py",
   "mimetype": "text/x-python",
   "name": "python",
   "nbconvert_exporter": "python",
   "pygments_lexer": "ipython3",
   "version": "3.10.4"
  },
  "orig_nbformat": 4
 },
 "nbformat": 4,
 "nbformat_minor": 2
}
