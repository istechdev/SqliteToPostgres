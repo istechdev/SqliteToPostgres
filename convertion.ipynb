{
 "cells": [
  {
   "cell_type": "markdown",
   "metadata": {},
   "source": [
    "Notebook para la conversión de db sqlite to pg"
   ]
  },
  {
   "cell_type": "code",
   "execution_count": 1,
   "metadata": {},
   "outputs": [],
   "source": [
    "import sqlite3\n",
    "import pandas as pd\n",
    "import psycopg2\n",
    "from configparser import ConfigParser"
   ]
  },
  {
   "cell_type": "markdown",
   "metadata": {},
   "source": [
    "Bloque 1: Sqlite Dump File or dataframe"
   ]
  },
  {
   "cell_type": "code",
   "execution_count": 3,
   "metadata": {},
   "outputs": [],
   "source": [
    "database = \"D:/BDD-Sqlite(V1)/app.db\"\n",
    "conn = sqlite3.connect(database)"
   ]
  },
  {
   "cell_type": "code",
   "execution_count": 4,
   "metadata": {},
   "outputs": [],
   "source": [
    "df = pd.read_sql(\"select sql from sqlite_master\", con=conn)\n",
    "df = df.mask(df.eq(None)).dropna()"
   ]
  },
  {
   "cell_type": "code",
   "execution_count": 16,
   "metadata": {},
   "outputs": [
    {
     "name": "stdout",
     "output_type": "stream",
     "text": [
      "CREATE TABLE warehouse (\n",
      "\tid INTEGER NOT NULL, \n",
      "\tname VARCHAR(16), \n",
      "\tlocation VARCHAR(16), \n",
      "\tnotes VARCHAR(255), \n",
      "\tsoft_delete BOOLEAN, \n",
      "\tPRIMARY KEY (id), \n",
      "\tCHECK (soft_delete IN (0, 1))\n",
      ")\n",
      "CREATE TABLE warehouse (\n",
      "\tid INTEGER NOT NULL, \n",
      "\tname VARCHAR(16, \n",
      "\tlocation VARCHAR(16), \n",
      "\tnotes VARCHAR(255), \n",
      "\tsoft_delete BOOLEAN, \n",
      "\tPRIMARY KEY (id) \n",
      "\t)\n",
      "CREATE TABLE warehouse (\n",
      "\tid INTEGER NOT NULL, \n",
      "\tname VARCHAR(16), \n",
      "\tlocation VARCHAR(16), \n",
      "\tnotes VARCHAR(255), \n",
      "\tsoft_delete BOOLEAN, \n",
      "\tPRIMARY KEY (id) \n",
      "\t)\n"
     ]
    }
   ],
   "source": [
    "#for i in df.index:\n",
    "#    print(df['sql'][i])\n",
    "#print(df['sql'][0].index('a'))\n",
    "a = df['sql'][12].replace('CHECK', '@')\n",
    "b = a.replace(a[a.index('@'):len(a)-1], '')\n",
    "temp = list(b)\n",
    "temp[len(temp)-5] = ''\n",
    "b = \"\".join(temp)\n",
    "print(df['sql'][12])\n",
    "print(b[:b.index(b[len(b)-5])] + '' + b[b.index(b[len(b)-5])+1:])\n",
    "print(b)"
   ]
  },
  {
   "cell_type": "code",
   "execution_count": 20,
   "metadata": {},
   "outputs": [],
   "source": [
    "conn.close()"
   ]
  },
  {
   "cell_type": "markdown",
   "metadata": {},
   "source": [
    "Bloque 2: Dump file or dataframe parse"
   ]
  },
  {
   "cell_type": "code",
   "execution_count": 25,
   "metadata": {},
   "outputs": [
    {
     "name": "stdout",
     "output_type": "stream",
     "text": [
      "['CREATE TABLE alembic_version (\\n\\tversion_num VARCHAR(32) NOT NULL, \\n\\tCONSTRAINT alembic_version_pkc PRIMARY KEY (version_num)\\n)', 'CREATE TABLE feedback (\\n\\tid INTEGER NOT NULL, \\n\\tname VARCHAR(128), \\n\\tcreation_date TIMESTAMP, \\n\\tfinal_date TIMESTAMP, \\n\\tnotes TEXT, \\n\\tanswer TEXT, \\n\\tuser_name VARCHAR(16), \\n\\tPRIMARY KEY (id)\\n)', 'CREATE TABLE item_category (\\n\\tid INTEGER NOT NULL, \\n\\tname VARCHAR(32), \\n\\tPRIMARY KEY (id)\\n)', 'CREATE UNIQUE INDEX ix_item_category_name ON item_category (name)', 'CREATE TABLE organization_category (\\n\\tid INTEGER NOT NULL, \\n\\tname VARCHAR(32), \\n\\tPRIMARY KEY (id)\\n)', 'CREATE UNIQUE INDEX ix_organization_category_name ON organization_category (name)', 'CREATE TABLE organization_client_category (\\n\\tid INTEGER NOT NULL, \\n\\tname VARCHAR(32), \\n\\tPRIMARY KEY (id)\\n)', 'CREATE UNIQUE INDEX ix_organization_client_category_name ON organization_client_category (name)', 'CREATE TABLE user_ (\\n\\tid INTEGER NOT NULL, \\n\\tuser_name VARCHAR(16), \\n\\tpassword_hash VARCHAR(128), \\n\\temail VARCHAR(64), \\n\\tsurnames VARCHAR(32), \\n\\tnames VARCHAR(32), \\n\\tnotes VARCHAR(140), \\n\\tis_admin BOOLEAN, \\n\\tis_manager BOOLEAN, \\n\\tlast_access TIMESTAMP, \\n\\tsoft_delete BOOLEAN, \\n\\tPRIMARY KEY (id) \\n\\t)', 'CREATE UNIQUE INDEX ix_user__email ON user_ (email)', 'CREATE UNIQUE INDEX ix_user__user_name ON user_ (user_name)', 'CREATE TABLE warehouse (\\n\\tid INTEGER NOT NULL, \\n\\tname VARCHAR(16), \\n\\tlocation VARCHAR(16), \\n\\tnotes VARCHAR(255), \\n\\tsoft_delete BOOLEAN, \\n\\tPRIMARY KEY (id) \\n\\t)', 'CREATE TABLE item (\\n\\tid INTEGER NOT NULL, \\n\\tcod VARCHAR(32), \\n\\tname VARCHAR(64), \\n\\tdescription VARCHAR(255), \\n\\tamount_per_package INTEGER, \\n\\tpackaging VARCHAR(16), \\n\\tnotes VARCHAR(255), \\n\\tsoft_delete BOOLEAN, \\n\\tcategory_id INTEGER, \\n\\tPRIMARY KEY (id), \\n\\tFOREIGN KEY(category_id) REFERENCES item_category (id) \\n\\t)', 'CREATE INDEX ix_item_cod ON item (cod)', 'CREATE TABLE organization (\\n\\tid INTEGER NOT NULL, \\n\\torg_name VARCHAR(32), \\n\\tcuit VARCHAR(12), \\n\\tcontacts VARCHAR(255), \\n\\tnotes VARCHAR(255), \\n\\tsoft_delete BOOLEAN, \\n\\tcategory_id INTEGER, \\n\\tPRIMARY KEY (id), \\n\\tFOREIGN KEY(category_id) REFERENCES organization_category (id) \\n\\t)', 'CREATE TABLE organization_client (\\n\\tid INTEGER NOT NULL, \\n\\torg_name VARCHAR(32), \\n\\tcuit VARCHAR(12), \\n\\tcontacts TEXT, \\n\\tnotes TEXT, \\n\\tsoft_delete BOOLEAN, \\n\\tcategory_id INTEGER, \\n\\tPRIMARY KEY (id), \\n\\tFOREIGN KEY(category_id) REFERENCES organization_client_category (id) \\n\\t)', 'CREATE TABLE purchase (\\n\\tid INTEGER NOT NULL, \\n\\tcod VARCHAR(32), \\n\\tname VARCHAR(32), \\n\\tcreation_date TIMESTAMP, \\n\\tfinal_date TIMESTAMP, \\n\\tstatus VARCHAR(16), \\n\\tdelivery_status VARCHAR(16), \\n\\tpayment_status VARCHAR(16), \\n\\tinternal_status VARCHAR(16), \\n\\tnotes VARCHAR(255), \\n\\tdelivery_fees FLOAT, \\n\\tis_archived BOOLEAN, \\n\\torganization_id INTEGER, \\n\\tPRIMARY KEY (id), \\n\\tFOREIGN KEY(organization_id) REFERENCES organization (id) \\n\\t)', 'CREATE INDEX ix_purchase_cod ON purchase (cod)', 'CREATE TABLE stock (\\n\\tid INTEGER NOT NULL, \\n\\titem_id INTEGER, \\n\\twarehouse_id INTEGER, \\n\\tquantity INTEGER, \\n\\tPRIMARY KEY (id), \\n\\tFOREIGN KEY(item_id) REFERENCES item (id), \\n\\tFOREIGN KEY(warehouse_id) REFERENCES warehouse (id)\\n)', 'CREATE TABLE work_order (\\n\\tid INTEGER NOT NULL, \\n\\tcod VARCHAR(32), \\n\\tname VARCHAR(32), \\n\\tlab_analysis_type VARCHAR(16), \\n\\tcreation_date TIMESTAMP, \\n\\tfinal_date TIMESTAMP, \\n\\tstatus VARCHAR(16), \\n\\tdelivery_status VARCHAR(16), \\n\\tinternal_status VARCHAR(16), \\n\\tnumber_of_patients INTEGER, \\n\\tprice_per_patient FLOAT, \\n\\tiva_per_patient FLOAT, \\n\\tpayment_method VARCHAR(16), \\n\\tpayment_status VARCHAR(16), \\n\\tinvoice_status VARCHAR(24), \\n\\tfirst_fee FLOAT, \\n\\tpayment_date TIMESTAMP, \\n\\tnotes TEXT, \\n\\tother_fees FLOAT, \\n\\tis_archived BOOLEAN, \\n\\torganization_client_id INTEGER, already_paid_amount FLOAT, \\n\\tPRIMARY KEY (id), \\n\\tFOREIGN KEY(organization_client_id) REFERENCES organization_client (id) \\n\\t)', 'CREATE INDEX ix_work_order_cod ON work_order (cod)', 'CREATE TABLE purchase_item (\\n\\tid INTEGER NOT NULL, \\n\\tpurchase_id INTEGER, \\n\\titem_id INTEGER, \\n\\tquantity INTEGER, \\n\\tnotes VARCHAR(127), \\n\\tis_in_stock BOOLEAN, \\n\\tfinal_date TIMESTAMP, \\n\\tPRIMARY KEY (id), \\n\\tFOREIGN KEY(item_id) REFERENCES item (id), \\n\\tFOREIGN KEY(purchase_id) REFERENCES purchase (id) \\n\\t)', 'CREATE TABLE client (\\n\\tid INTEGER NOT NULL, \\n\\tsurnames VARCHAR(32), \\n\\tnames VARCHAR(32), \\n\\tdni_notes VARCHAR(32), \\n\\tcontact TEXT, \\n\\tdirection TEXT, \\n\\tnotes TEXT, \\n\\tsoft_delete BOOLEAN, \\n\\tPRIMARY KEY (id) \\n\\t)', 'CREATE TABLE unit (\\n\\tid INTEGER NOT NULL, \\n\\tname VARCHAR(32), \\n\\tnotes TEXT, \\n\\tsoft_delete BOOLEAN, \\n\\tPRIMARY KEY (id) \\n\\t)', 'CREATE TABLE home_sampling (\\n\\tid INTEGER NOT NULL, \\n\\tcod VARCHAR(32), \\n\\tname VARCHAR(32), \\n\\tlab_analysis_type VARCHAR(16), \\n\\tcreation_date TIMESTAMP, \\n\\tfinal_date TIMESTAMP, \\n\\tscheduled_date TIMESTAMP, \\n\\tstatus VARCHAR(16), \\n\\tschedule_status VARCHAR(16), \\n\\tdelivery_status VARCHAR(16), \\n\\tinternal_status VARCHAR(16), \\n\\tnotes TEXT, \\n\\tis_archived BOOLEAN, \\n\\tclient_id INTEGER, \\n\\tunit_id INTEGER, \\n\\tPRIMARY KEY (id), \\n\\tFOREIGN KEY(client_id) REFERENCES client (id), \\n\\tFOREIGN KEY(unit_id) REFERENCES unit (id) \\n\\t)', 'CREATE INDEX ix_home_sampling_cod ON home_sampling (cod)', 'CREATE TABLE user__unit (\\n\\tid INTEGER NOT NULL, \\n\\tuser__id INTEGER, \\n\\tunit_id INTEGER, \\n\\tPRIMARY KEY (id), \\n\\tFOREIGN KEY(unit_id) REFERENCES unit (id), \\n\\tFOREIGN KEY(user__id) REFERENCES user_ (id)\\n)', 'CREATE TABLE work_order_pay_item (\\n\\tid INTEGER NOT NULL, \\n\\tref INTEGER, \\n\\tpay_date VARCHAR(24), \\n\\tpay_type VARCHAR(16), \\n\\tworkorder_id INTEGER, \\n\\tamount FLOAT, \\n\\tpayment_method VARCHAR(16), \\n\\tbank_id VARCHAR(16), \\n\\tbank_coupon VARCHAR(24), \\n\\tnotes VARCHAR(127), \\n\\tPRIMARY KEY (id), \\n\\tFOREIGN KEY(workorder_id) REFERENCES work_order (id)\\n)', 'CREATE TABLE user__connection_history (\\n\\tid INTEGER NOT NULL, \\n\\tuser__id INTEGER, \\n\\tuser__action VARCHAR(16), \\n\\tuser__timestamp TIMESTAMP, \\n\\tPRIMARY KEY (id), \\n\\tFOREIGN KEY(user__id) REFERENCES user_ (id)\\n)']\n"
     ]
    }
   ],
   "source": [
    "#df.replace('DATETIME', 'TIMESTAMP')\n",
    "parsed_df = []\n",
    "for i in df.index:\n",
    "#    if(aux.find('CHECK') == -1):\n",
    "    aux = df['sql'][i]\n",
    "    aux = aux.replace('DATETIME', 'TIMESTAMP')\n",
    "    aux = aux.replace('user', 'user_')\n",
    "    if(aux.find('CHECK') != -1):\n",
    "        a = aux.replace('CHECK', '@')\n",
    "        b = a.replace(a[a.index('@'):len(a)-1], '')\n",
    "        temp = list(b)\n",
    "        temp[len(temp)-5] = ''\n",
    "        aux = \"\".join(temp)\n",
    "    parsed_df.append(aux)\n",
    "\n",
    "\n",
    "print(parsed_df)"
   ]
  },
  {
   "cell_type": "markdown",
   "metadata": {},
   "source": [
    "Bloque 3: Creación de base de datos"
   ]
  },
  {
   "cell_type": "markdown",
   "metadata": {},
   "source": [
    "Bloque 4: Dump file to pg"
   ]
  },
  {
   "cell_type": "code",
   "execution_count": 21,
   "metadata": {},
   "outputs": [],
   "source": [
    "def config(archivo='pg.ini', seccion='postgresql'):\n",
    "    # Crear el parser y leer el archivo\n",
    "    parser = ConfigParser()\n",
    "    parser.read(archivo)\n",
    " \n",
    "    # Obtener la sección de conexión a la base de datos\n",
    "    db = {}\n",
    "    if parser.has_section(seccion):\n",
    "        params = parser.items(seccion)\n",
    "        for param in params:\n",
    "            db[param[0]] = param[1]\n",
    "        return db\n",
    "    else:\n",
    "        raise Exception('Secccion {0} no encontrada en el archivo {1}'.format(seccion, archivo))"
   ]
  },
  {
   "cell_type": "code",
   "execution_count": 22,
   "metadata": {},
   "outputs": [],
   "source": [
    "def conectar():\n",
    "    \"\"\" Conexión al servidor de bases de datos PostgreSQL \"\"\"\n",
    "    conexion = None\n",
    "    try:\n",
    "        # Lectura de los parámetros de conexion\n",
    "        params = config()\n",
    " \n",
    "        # Conexion al servidor de PostgreSQL\n",
    "        print('Conectando a la base de datos PostgreSQL...')\n",
    "        print(params)\n",
    "        conexion = psycopg2.connect(**params)\n",
    "        conexion.autocommit = True\n",
    " \n",
    "        # creación del cursor\n",
    "        cur = conexion.cursor()\n",
    "        \n",
    "        # Ejecución de una consulta con la version de PostgreSQL\n",
    "        print('La version de PostgreSQL es la:')\n",
    "        cur.execute('SELECT version()')\n",
    " \n",
    "        # Ahora mostramos la version\n",
    "        version = cur.fetchone()\n",
    "        print(version)\n",
    "       \n",
    "       # Ejecutamos una consulta\n",
    "       ## cur.execute( \"SELECT nombre, apellidos FROM empleados\" )\n",
    "\n",
    "        # Recorremos los resultados y los mostramos\n",
    "        ##for nombre, apellidos in cur.fetchall() :\n",
    "        ##    print (nombre, apellidos)\n",
    "\n",
    "        # Cierre de la comunicación con PostgreSQL\n",
    "        cur.close()\n",
    "    except (Exception, psycopg2.DatabaseError) as error:\n",
    "        print(error)\n",
    "    finally:\n",
    "        if conexion is not None:\n",
    "            \"\"\"conexion.close()\n",
    "            print('Conexión finalizada.')\"\"\""
   ]
  },
  {
   "cell_type": "code",
   "execution_count": 23,
   "metadata": {},
   "outputs": [
    {
     "name": "stdout",
     "output_type": "stream",
     "text": [
      "Conectando a la base de datos PostgreSQL...\n",
      "{'host': '192.168.1.105', 'database': 'Prueba2', 'user': 'gdeluca', 'password': 'gdeluca', 'port': '5432'}\n",
      "La version de PostgreSQL es la:\n",
      "('PostgreSQL 14.2 (Ubuntu 14.2-1ubuntu1) on x86_64-pc-linux-gnu, compiled by gcc (Ubuntu 11.2.0-19ubuntu1) 11.2.0, 64-bit',)\n"
     ]
    }
   ],
   "source": [
    "conectar()"
   ]
  },
  {
   "cell_type": "code",
   "execution_count": 27,
   "metadata": {},
   "outputs": [],
   "source": [
    "# Creamos el cursor con el objeto conexion\n",
    "params = config()\n",
    "conexion = psycopg2.connect(**params)\n",
    "conexion.autocommit = True\n",
    "cur = conexion.cursor()\n",
    "# Ejecutamos una consulta\n",
    "for i in range(len(parsed_df)):\n",
    "    cur.execute(parsed_df[i])\n",
    "\n",
    "# Recorremos los resultados y los mostramos\n",
    "\"\"\"for id, name in cur.fetchall() :\n",
    "    print(id, name)\"\"\"\n",
    "\n",
    "# Cerramos la conexión\n",
    "conexion.commit()\n",
    "conexion.close()"
   ]
  }
 ],
 "metadata": {
  "interpreter": {
   "hash": "8f1b688e5dc678ecae4edbf458b512dd7d49e79593819bf17fc264de6db80c5b"
  },
  "kernelspec": {
   "display_name": "Python 3.10.4 64-bit",
   "language": "python",
   "name": "python3"
  },
  "language_info": {
   "codemirror_mode": {
    "name": "ipython",
    "version": 3
   },
   "file_extension": ".py",
   "mimetype": "text/x-python",
   "name": "python",
   "nbconvert_exporter": "python",
   "pygments_lexer": "ipython3",
   "version": "3.10.4"
  },
  "orig_nbformat": 4
 },
 "nbformat": 4,
 "nbformat_minor": 2
}
