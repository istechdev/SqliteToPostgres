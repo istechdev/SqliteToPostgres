{
 "cells": [
  {
   "cell_type": "markdown",
   "metadata": {},
   "source": [
    "Notebook para la conversión de db sqlite to pg"
   ]
  },
  {
   "cell_type": "code",
   "execution_count": 1,
   "metadata": {},
   "outputs": [],
   "source": [
    "import sqlite3\n",
    "import pandas as pd\n",
    "import psycopg2\n",
    "from configparser import ConfigParser"
   ]
  },
  {
   "cell_type": "markdown",
   "metadata": {},
   "source": [
    "Bloque 1: Sqlite Dump File or dataframe"
   ]
  },
  {
   "cell_type": "code",
   "execution_count": null,
   "metadata": {},
   "outputs": [],
   "source": [
    "database = \"../app.db\"\n",
    "conn = sqlite3.connect(database)"
   ]
  },
  {
   "cell_type": "code",
   "execution_count": null,
   "metadata": {},
   "outputs": [],
   "source": [
    "df = pd.read_sql(\"select * from sqlite_master\", con=conn)"
   ]
  },
  {
   "cell_type": "code",
   "execution_count": null,
   "metadata": {},
   "outputs": [],
   "source": [
    "print(df)"
   ]
  },
  {
   "cell_type": "code",
   "execution_count": null,
   "metadata": {},
   "outputs": [],
   "source": [
    "conn.close()"
   ]
  },
  {
   "cell_type": "markdown",
   "metadata": {},
   "source": [
    "Bloque 2: Dump file or dataframe parse"
   ]
  },
  {
   "cell_type": "markdown",
   "metadata": {},
   "source": [
    "Bloque 3: Creación de base de datos"
   ]
  },
  {
   "cell_type": "markdown",
   "metadata": {},
   "source": [
    "Bloque 4: Dump file to pg"
   ]
  },
  {
   "cell_type": "code",
   "execution_count": 2,
   "metadata": {},
   "outputs": [],
   "source": [
    "def config(archivo='pg.ini', seccion='postgresql'):\n",
    "    # Crear el parser y leer el archivo\n",
    "    parser = ConfigParser()\n",
    "    parser.read(archivo)\n",
    " \n",
    "    # Obtener la sección de conexión a la base de datos\n",
    "    db = {}\n",
    "    if parser.has_section(seccion):\n",
    "        params = parser.items(seccion)\n",
    "        for param in params:\n",
    "            db[param[0]] = param[1]\n",
    "        return db\n",
    "    else:\n",
    "        raise Exception('Secccion {0} no encontrada en el archivo {1}'.format(seccion, archivo))"
   ]
  },
  {
   "cell_type": "code",
   "execution_count": 7,
   "metadata": {},
   "outputs": [],
   "source": [
    "def conectar():\n",
    "    \"\"\" Conexión al servidor de pases de datos PostgreSQL \"\"\"\n",
    "    conexion = None\n",
    "    try:\n",
    "        # Lectura de los parámetros de conexion\n",
    "        params = config()\n",
    " \n",
    "        # Conexion al servidor de PostgreSQL\n",
    "        print('Conectando a la base de datos PostgreSQL...')\n",
    "        print(params)\n",
    "        conexion = psycopg2.connect(**params)\n",
    " \n",
    "        # creación del cursor\n",
    "        cur = conexion.cursor()\n",
    "        \n",
    "        # Ejecución de una consulta con la version de PostgreSQL\n",
    "        print('La version de PostgreSQL es la:')\n",
    "        cur.execute('SELECT version()')\n",
    " \n",
    "        # Ahora mostramos la version\n",
    "        version = cur.fetchone()\n",
    "        print(version)\n",
    "       \n",
    "       # Ejecutamos una consulta\n",
    "       ## cur.execute( \"SELECT nombre, apellidos FROM empleados\" )\n",
    "\n",
    "        # Recorremos los resultados y los mostramos\n",
    "        ##for nombre, apellidos in cur.fetchall() :\n",
    "        ##    print (nombre, apellidos)\n",
    "\n",
    "        # Cierre de la comunicación con PostgreSQL\n",
    "        cur.close()\n",
    "    except (Exception, psycopg2.DatabaseError) as error:\n",
    "        print(error)\n",
    "    finally:\n",
    "        if conexion is not None:\n",
    "            conexion.close()\n",
    "            print('Conexión finalizada.')"
   ]
  },
  {
   "cell_type": "code",
   "execution_count": 8,
   "metadata": {},
   "outputs": [
    {
     "name": "stdout",
     "output_type": "stream",
     "text": [
      "Conectando a la base de datos PostgreSQL...\n",
      "{'host': 'localhost', 'database': 'test0', 'user': 'postgres', 'password': 'postgrespw', 'port': '49153'}\n",
      "La version de PostgreSQL es la:\n",
      "('PostgreSQL 14.2 (Debian 14.2-1.pgdg110+1) on x86_64-pc-linux-gnu, compiled by gcc (Debian 10.2.1-6) 10.2.1 20210110, 64-bit',)\n",
      "relation \"empleados\" does not exist\n",
      "LINE 1: SELECT nombre, apellidos FROM empleados\n",
      "                                      ^\n",
      "\n",
      "Conexión finalizada.\n"
     ]
    }
   ],
   "source": [
    "conectar()"
   ]
  },
  {
   "cell_type": "code",
   "execution_count": null,
   "metadata": {},
   "outputs": [],
   "source": [
    "# Creamos el cursor con el objeto conexion\n",
    "cur = conexion.cursor()\n",
    "\n",
    "# Ejecutamos una consulta\n",
    "cur.execute( \"SELECT nombre, apellidos FROM empleados\" )\n",
    "\n",
    "# Recorremos los resultados y los mostramos\n",
    "for nombre, apellidos in cur.fetchall() :\n",
    "    print nombre, apellidos\n",
    "\n",
    "# Cerramos la conexión\n",
    "conexion.close()"
   ]
  }
 ],
 "metadata": {
  "interpreter": {
   "hash": "c8a1f7588f87319a11423af699e6f7238a398269593b467bb222b1b870073497"
  },
  "kernelspec": {
   "display_name": "Python 3.8.5 ('venv': venv)",
   "language": "python",
   "name": "python3"
  },
  "language_info": {
   "codemirror_mode": {
    "name": "ipython",
    "version": 3
   },
   "file_extension": ".py",
   "mimetype": "text/x-python",
   "name": "python",
   "nbconvert_exporter": "python",
   "pygments_lexer": "ipython3",
   "version": "3.8.5"
  },
  "orig_nbformat": 4
 },
 "nbformat": 4,
 "nbformat_minor": 2
}
