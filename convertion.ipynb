{
 "cells": [
  {
   "cell_type": "markdown",
   "metadata": {},
   "source": [
    "Notebook para la conversión de db sqlite to pg"
   ]
  },
  {
   "cell_type": "code",
   "execution_count": 65,
   "metadata": {},
   "outputs": [],
   "source": [
    "import sqlite3\n",
    "import pandas as pd\n",
    "import psycopg2\n",
    "from configparser import ConfigParser"
   ]
  },
  {
   "cell_type": "markdown",
   "metadata": {},
   "source": [
    "Bloque 1: Sqlite Dump File or dataframe"
   ]
  },
  {
   "cell_type": "code",
   "execution_count": 66,
   "metadata": {},
   "outputs": [],
   "source": [
    "database = \"C:/Users/Innovative Pasantía/Documents/Proyectos/Base de datos/app.db\"\n",
    "conn = sqlite3.connect(database)"
   ]
  },
  {
   "cell_type": "code",
   "execution_count": 72,
   "metadata": {},
   "outputs": [],
   "source": [
    "df = pd.read_sql(\"select sql from sqlite_master\", con=conn)"
   ]
  },
  {
   "cell_type": "code",
   "execution_count": 107,
   "metadata": {},
   "outputs": [
    {
     "name": "stderr",
     "output_type": "stream",
     "text": [
      "C:\\Users\\Innovative Pasantía\\AppData\\Local\\Temp\\ipykernel_1360\\533609163.py:4: FutureWarning: In a future version of pandas all arguments of concat except for the argument 'objs' will be keyword-only.\n",
      "  pd.concat(new,df)\n"
     ]
    },
    {
     "ename": "TypeError",
     "evalue": "first argument must be an iterable of pandas objects, you passed an object of type \"DataFrame\"",
     "output_type": "error",
     "traceback": [
      "\u001b[1;31m---------------------------------------------------------------------------\u001b[0m",
      "\u001b[1;31mTypeError\u001b[0m                                 Traceback (most recent call last)",
      "\u001b[1;32mc:\\Users\\Innovative Pasantía\\Documents\\Proyectos\\SqliteToPostgres\\convertion.ipynb Cell 6'\u001b[0m in \u001b[0;36m<cell line: 4>\u001b[1;34m()\u001b[0m\n\u001b[0;32m      <a href='vscode-notebook-cell:/c%3A/Users/Innovative%20Pasant%C3%ADa/Documents/Proyectos/SqliteToPostgres/convertion.ipynb#ch0000005?line=0'>1</a>\u001b[0m \u001b[39m#print(df.iat[2,0])\u001b[39;00m\n\u001b[0;32m      <a href='vscode-notebook-cell:/c%3A/Users/Innovative%20Pasant%C3%ADa/Documents/Proyectos/SqliteToPostgres/convertion.ipynb#ch0000005?line=1'>2</a>\u001b[0m \u001b[39m#print(df)\u001b[39;00m\n\u001b[0;32m      <a href='vscode-notebook-cell:/c%3A/Users/Innovative%20Pasant%C3%ADa/Documents/Proyectos/SqliteToPostgres/convertion.ipynb#ch0000005?line=2'>3</a>\u001b[0m new \u001b[39m=\u001b[39m pd\u001b[39m.\u001b[39mDataFrame()\n\u001b[1;32m----> <a href='vscode-notebook-cell:/c%3A/Users/Innovative%20Pasant%C3%ADa/Documents/Proyectos/SqliteToPostgres/convertion.ipynb#ch0000005?line=3'>4</a>\u001b[0m pd\u001b[39m.\u001b[39;49mconcat(new,df)\n\u001b[0;32m      <a href='vscode-notebook-cell:/c%3A/Users/Innovative%20Pasant%C3%ADa/Documents/Proyectos/SqliteToPostgres/convertion.ipynb#ch0000005?line=4'>5</a>\u001b[0m \u001b[39m#new.append(df.mask(df.eq(None)).dropna())\u001b[39;00m\n\u001b[0;32m      <a href='vscode-notebook-cell:/c%3A/Users/Innovative%20Pasant%C3%ADa/Documents/Proyectos/SqliteToPostgres/convertion.ipynb#ch0000005?line=5'>6</a>\u001b[0m \u001b[39mprint\u001b[39m(new)\n",
      "File \u001b[1;32mc:\\Users\\Innovative Pasantía\\AppData\\Local\\Programs\\Python\\Python310\\lib\\site-packages\\pandas\\util\\_decorators.py:311\u001b[0m, in \u001b[0;36mdeprecate_nonkeyword_arguments.<locals>.decorate.<locals>.wrapper\u001b[1;34m(*args, **kwargs)\u001b[0m\n\u001b[0;32m    <a href='file:///c%3A/Users/Innovative%20Pasant%C3%ADa/AppData/Local/Programs/Python/Python310/lib/site-packages/pandas/util/_decorators.py?line=304'>305</a>\u001b[0m \u001b[39mif\u001b[39;00m \u001b[39mlen\u001b[39m(args) \u001b[39m>\u001b[39m num_allow_args:\n\u001b[0;32m    <a href='file:///c%3A/Users/Innovative%20Pasant%C3%ADa/AppData/Local/Programs/Python/Python310/lib/site-packages/pandas/util/_decorators.py?line=305'>306</a>\u001b[0m     warnings\u001b[39m.\u001b[39mwarn(\n\u001b[0;32m    <a href='file:///c%3A/Users/Innovative%20Pasant%C3%ADa/AppData/Local/Programs/Python/Python310/lib/site-packages/pandas/util/_decorators.py?line=306'>307</a>\u001b[0m         msg\u001b[39m.\u001b[39mformat(arguments\u001b[39m=\u001b[39marguments),\n\u001b[0;32m    <a href='file:///c%3A/Users/Innovative%20Pasant%C3%ADa/AppData/Local/Programs/Python/Python310/lib/site-packages/pandas/util/_decorators.py?line=307'>308</a>\u001b[0m         \u001b[39mFutureWarning\u001b[39;00m,\n\u001b[0;32m    <a href='file:///c%3A/Users/Innovative%20Pasant%C3%ADa/AppData/Local/Programs/Python/Python310/lib/site-packages/pandas/util/_decorators.py?line=308'>309</a>\u001b[0m         stacklevel\u001b[39m=\u001b[39mstacklevel,\n\u001b[0;32m    <a href='file:///c%3A/Users/Innovative%20Pasant%C3%ADa/AppData/Local/Programs/Python/Python310/lib/site-packages/pandas/util/_decorators.py?line=309'>310</a>\u001b[0m     )\n\u001b[1;32m--> <a href='file:///c%3A/Users/Innovative%20Pasant%C3%ADa/AppData/Local/Programs/Python/Python310/lib/site-packages/pandas/util/_decorators.py?line=310'>311</a>\u001b[0m \u001b[39mreturn\u001b[39;00m func(\u001b[39m*\u001b[39margs, \u001b[39m*\u001b[39m\u001b[39m*\u001b[39mkwargs)\n",
      "File \u001b[1;32mc:\\Users\\Innovative Pasantía\\AppData\\Local\\Programs\\Python\\Python310\\lib\\site-packages\\pandas\\core\\reshape\\concat.py:347\u001b[0m, in \u001b[0;36mconcat\u001b[1;34m(objs, axis, join, ignore_index, keys, levels, names, verify_integrity, sort, copy)\u001b[0m\n\u001b[0;32m    <a href='file:///c%3A/Users/Innovative%20Pasant%C3%ADa/AppData/Local/Programs/Python/Python310/lib/site-packages/pandas/core/reshape/concat.py?line=142'>143</a>\u001b[0m \u001b[39m@deprecate_nonkeyword_arguments\u001b[39m(version\u001b[39m=\u001b[39m\u001b[39mNone\u001b[39;00m, allowed_args\u001b[39m=\u001b[39m[\u001b[39m\"\u001b[39m\u001b[39mobjs\u001b[39m\u001b[39m\"\u001b[39m])\n\u001b[0;32m    <a href='file:///c%3A/Users/Innovative%20Pasant%C3%ADa/AppData/Local/Programs/Python/Python310/lib/site-packages/pandas/core/reshape/concat.py?line=143'>144</a>\u001b[0m \u001b[39mdef\u001b[39;00m \u001b[39mconcat\u001b[39m(\n\u001b[0;32m    <a href='file:///c%3A/Users/Innovative%20Pasant%C3%ADa/AppData/Local/Programs/Python/Python310/lib/site-packages/pandas/core/reshape/concat.py?line=144'>145</a>\u001b[0m     objs: Iterable[NDFrame] \u001b[39m|\u001b[39m Mapping[Hashable, NDFrame],\n\u001b[1;32m   (...)\u001b[0m\n\u001b[0;32m    <a href='file:///c%3A/Users/Innovative%20Pasant%C3%ADa/AppData/Local/Programs/Python/Python310/lib/site-packages/pandas/core/reshape/concat.py?line=153'>154</a>\u001b[0m     copy: \u001b[39mbool\u001b[39m \u001b[39m=\u001b[39m \u001b[39mTrue\u001b[39;00m,\n\u001b[0;32m    <a href='file:///c%3A/Users/Innovative%20Pasant%C3%ADa/AppData/Local/Programs/Python/Python310/lib/site-packages/pandas/core/reshape/concat.py?line=154'>155</a>\u001b[0m ) \u001b[39m-\u001b[39m\u001b[39m>\u001b[39m DataFrame \u001b[39m|\u001b[39m Series:\n\u001b[0;32m    <a href='file:///c%3A/Users/Innovative%20Pasant%C3%ADa/AppData/Local/Programs/Python/Python310/lib/site-packages/pandas/core/reshape/concat.py?line=155'>156</a>\u001b[0m     \u001b[39m\"\"\"\u001b[39;00m\n\u001b[0;32m    <a href='file:///c%3A/Users/Innovative%20Pasant%C3%ADa/AppData/Local/Programs/Python/Python310/lib/site-packages/pandas/core/reshape/concat.py?line=156'>157</a>\u001b[0m \u001b[39m    Concatenate pandas objects along a particular axis with optional set logic\u001b[39;00m\n\u001b[0;32m    <a href='file:///c%3A/Users/Innovative%20Pasant%C3%ADa/AppData/Local/Programs/Python/Python310/lib/site-packages/pandas/core/reshape/concat.py?line=157'>158</a>\u001b[0m \u001b[39m    along the other axes.\u001b[39;00m\n\u001b[1;32m   (...)\u001b[0m\n\u001b[0;32m    <a href='file:///c%3A/Users/Innovative%20Pasant%C3%ADa/AppData/Local/Programs/Python/Python310/lib/site-packages/pandas/core/reshape/concat.py?line=344'>345</a>\u001b[0m \u001b[39m    ValueError: Indexes have overlapping values: ['a']\u001b[39;00m\n\u001b[0;32m    <a href='file:///c%3A/Users/Innovative%20Pasant%C3%ADa/AppData/Local/Programs/Python/Python310/lib/site-packages/pandas/core/reshape/concat.py?line=345'>346</a>\u001b[0m \u001b[39m    \"\"\"\u001b[39;00m\n\u001b[1;32m--> <a href='file:///c%3A/Users/Innovative%20Pasant%C3%ADa/AppData/Local/Programs/Python/Python310/lib/site-packages/pandas/core/reshape/concat.py?line=346'>347</a>\u001b[0m     op \u001b[39m=\u001b[39m _Concatenator(\n\u001b[0;32m    <a href='file:///c%3A/Users/Innovative%20Pasant%C3%ADa/AppData/Local/Programs/Python/Python310/lib/site-packages/pandas/core/reshape/concat.py?line=347'>348</a>\u001b[0m         objs,\n\u001b[0;32m    <a href='file:///c%3A/Users/Innovative%20Pasant%C3%ADa/AppData/Local/Programs/Python/Python310/lib/site-packages/pandas/core/reshape/concat.py?line=348'>349</a>\u001b[0m         axis\u001b[39m=\u001b[39;49maxis,\n\u001b[0;32m    <a href='file:///c%3A/Users/Innovative%20Pasant%C3%ADa/AppData/Local/Programs/Python/Python310/lib/site-packages/pandas/core/reshape/concat.py?line=349'>350</a>\u001b[0m         ignore_index\u001b[39m=\u001b[39;49mignore_index,\n\u001b[0;32m    <a href='file:///c%3A/Users/Innovative%20Pasant%C3%ADa/AppData/Local/Programs/Python/Python310/lib/site-packages/pandas/core/reshape/concat.py?line=350'>351</a>\u001b[0m         join\u001b[39m=\u001b[39;49mjoin,\n\u001b[0;32m    <a href='file:///c%3A/Users/Innovative%20Pasant%C3%ADa/AppData/Local/Programs/Python/Python310/lib/site-packages/pandas/core/reshape/concat.py?line=351'>352</a>\u001b[0m         keys\u001b[39m=\u001b[39;49mkeys,\n\u001b[0;32m    <a href='file:///c%3A/Users/Innovative%20Pasant%C3%ADa/AppData/Local/Programs/Python/Python310/lib/site-packages/pandas/core/reshape/concat.py?line=352'>353</a>\u001b[0m         levels\u001b[39m=\u001b[39;49mlevels,\n\u001b[0;32m    <a href='file:///c%3A/Users/Innovative%20Pasant%C3%ADa/AppData/Local/Programs/Python/Python310/lib/site-packages/pandas/core/reshape/concat.py?line=353'>354</a>\u001b[0m         names\u001b[39m=\u001b[39;49mnames,\n\u001b[0;32m    <a href='file:///c%3A/Users/Innovative%20Pasant%C3%ADa/AppData/Local/Programs/Python/Python310/lib/site-packages/pandas/core/reshape/concat.py?line=354'>355</a>\u001b[0m         verify_integrity\u001b[39m=\u001b[39;49mverify_integrity,\n\u001b[0;32m    <a href='file:///c%3A/Users/Innovative%20Pasant%C3%ADa/AppData/Local/Programs/Python/Python310/lib/site-packages/pandas/core/reshape/concat.py?line=355'>356</a>\u001b[0m         copy\u001b[39m=\u001b[39;49mcopy,\n\u001b[0;32m    <a href='file:///c%3A/Users/Innovative%20Pasant%C3%ADa/AppData/Local/Programs/Python/Python310/lib/site-packages/pandas/core/reshape/concat.py?line=356'>357</a>\u001b[0m         sort\u001b[39m=\u001b[39;49msort,\n\u001b[0;32m    <a href='file:///c%3A/Users/Innovative%20Pasant%C3%ADa/AppData/Local/Programs/Python/Python310/lib/site-packages/pandas/core/reshape/concat.py?line=357'>358</a>\u001b[0m     )\n\u001b[0;32m    <a href='file:///c%3A/Users/Innovative%20Pasant%C3%ADa/AppData/Local/Programs/Python/Python310/lib/site-packages/pandas/core/reshape/concat.py?line=359'>360</a>\u001b[0m     \u001b[39mreturn\u001b[39;00m op\u001b[39m.\u001b[39mget_result()\n",
      "File \u001b[1;32mc:\\Users\\Innovative Pasantía\\AppData\\Local\\Programs\\Python\\Python310\\lib\\site-packages\\pandas\\core\\reshape\\concat.py:382\u001b[0m, in \u001b[0;36m_Concatenator.__init__\u001b[1;34m(self, objs, axis, join, keys, levels, names, ignore_index, verify_integrity, copy, sort)\u001b[0m\n\u001b[0;32m    <a href='file:///c%3A/Users/Innovative%20Pasant%C3%ADa/AppData/Local/Programs/Python/Python310/lib/site-packages/pandas/core/reshape/concat.py?line=367'>368</a>\u001b[0m \u001b[39mdef\u001b[39;00m \u001b[39m__init__\u001b[39m(\n\u001b[0;32m    <a href='file:///c%3A/Users/Innovative%20Pasant%C3%ADa/AppData/Local/Programs/Python/Python310/lib/site-packages/pandas/core/reshape/concat.py?line=368'>369</a>\u001b[0m     \u001b[39mself\u001b[39m,\n\u001b[0;32m    <a href='file:///c%3A/Users/Innovative%20Pasant%C3%ADa/AppData/Local/Programs/Python/Python310/lib/site-packages/pandas/core/reshape/concat.py?line=369'>370</a>\u001b[0m     objs: Iterable[NDFrame] \u001b[39m|\u001b[39m Mapping[Hashable, NDFrame],\n\u001b[1;32m   (...)\u001b[0m\n\u001b[0;32m    <a href='file:///c%3A/Users/Innovative%20Pasant%C3%ADa/AppData/Local/Programs/Python/Python310/lib/site-packages/pandas/core/reshape/concat.py?line=378'>379</a>\u001b[0m     sort\u001b[39m=\u001b[39m\u001b[39mFalse\u001b[39;00m,\n\u001b[0;32m    <a href='file:///c%3A/Users/Innovative%20Pasant%C3%ADa/AppData/Local/Programs/Python/Python310/lib/site-packages/pandas/core/reshape/concat.py?line=379'>380</a>\u001b[0m ):\n\u001b[0;32m    <a href='file:///c%3A/Users/Innovative%20Pasant%C3%ADa/AppData/Local/Programs/Python/Python310/lib/site-packages/pandas/core/reshape/concat.py?line=380'>381</a>\u001b[0m     \u001b[39mif\u001b[39;00m \u001b[39misinstance\u001b[39m(objs, (ABCSeries, ABCDataFrame, \u001b[39mstr\u001b[39m)):\n\u001b[1;32m--> <a href='file:///c%3A/Users/Innovative%20Pasant%C3%ADa/AppData/Local/Programs/Python/Python310/lib/site-packages/pandas/core/reshape/concat.py?line=381'>382</a>\u001b[0m         \u001b[39mraise\u001b[39;00m \u001b[39mTypeError\u001b[39;00m(\n\u001b[0;32m    <a href='file:///c%3A/Users/Innovative%20Pasant%C3%ADa/AppData/Local/Programs/Python/Python310/lib/site-packages/pandas/core/reshape/concat.py?line=382'>383</a>\u001b[0m             \u001b[39m\"\u001b[39m\u001b[39mfirst argument must be an iterable of pandas \u001b[39m\u001b[39m\"\u001b[39m\n\u001b[0;32m    <a href='file:///c%3A/Users/Innovative%20Pasant%C3%ADa/AppData/Local/Programs/Python/Python310/lib/site-packages/pandas/core/reshape/concat.py?line=383'>384</a>\u001b[0m             \u001b[39mf\u001b[39m\u001b[39m'\u001b[39m\u001b[39mobjects, you passed an object of type \u001b[39m\u001b[39m\"\u001b[39m\u001b[39m{\u001b[39;00m\u001b[39mtype\u001b[39m(objs)\u001b[39m.\u001b[39m\u001b[39m__name__\u001b[39m\u001b[39m}\u001b[39;00m\u001b[39m\"\u001b[39m\u001b[39m'\u001b[39m\n\u001b[0;32m    <a href='file:///c%3A/Users/Innovative%20Pasant%C3%ADa/AppData/Local/Programs/Python/Python310/lib/site-packages/pandas/core/reshape/concat.py?line=384'>385</a>\u001b[0m         )\n\u001b[0;32m    <a href='file:///c%3A/Users/Innovative%20Pasant%C3%ADa/AppData/Local/Programs/Python/Python310/lib/site-packages/pandas/core/reshape/concat.py?line=386'>387</a>\u001b[0m     \u001b[39mif\u001b[39;00m join \u001b[39m==\u001b[39m \u001b[39m\"\u001b[39m\u001b[39mouter\u001b[39m\u001b[39m\"\u001b[39m:\n\u001b[0;32m    <a href='file:///c%3A/Users/Innovative%20Pasant%C3%ADa/AppData/Local/Programs/Python/Python310/lib/site-packages/pandas/core/reshape/concat.py?line=387'>388</a>\u001b[0m         \u001b[39mself\u001b[39m\u001b[39m.\u001b[39mintersect \u001b[39m=\u001b[39m \u001b[39mFalse\u001b[39;00m\n",
      "\u001b[1;31mTypeError\u001b[0m: first argument must be an iterable of pandas objects, you passed an object of type \"DataFrame\""
     ]
    }
   ],
   "source": [
    "#print(df.iat[2,0])\n",
    "#print(df)\n",
    "new = pd.DataFrame()\n",
    "new = pd.concat(df.mask(df.eq(None)).dropna())\n",
    "#new.append(df.mask(df.eq(None)).dropna())\n",
    "print(new)\n",
    "#for i in aux.index:\n",
    "#    print(aux['sql'][i].replace('DATETIME','TIMESTAMP'))\n",
    "#print(df['sql'][9])\n",
    "#parsed_df = []\n",
    "#for i in df.index:\n",
    "#    aux = df['sql'][i]\n",
    "#    aux = aux.replace('DATETIME', 'TIMESTAMP')\n",
    "#    aux = aux.replace('user', 'user_')\n",
    "#    #if(aux.find('CHECK')):\n",
    "    #aux = aux\n",
    "#    parsed_df.append(aux)\n",
    "#print(parsed_df)\n",
    "#for i in aux.index:\n",
    "#    print(aux['sql'][i].replace('DATETIME','TIMESTAMP'))\n",
    "#print(aux.iat[1,0])\n",
    "#print(df.iterrows())\n",
    "#for i in df.index:\n",
    "#print(df['sql'][1])\n",
    "#print((df['sql'][3]))"
   ]
  },
  {
   "cell_type": "code",
   "execution_count": 14,
   "metadata": {},
   "outputs": [],
   "source": [
    "conn.close()"
   ]
  },
  {
   "cell_type": "markdown",
   "metadata": {},
   "source": [
    "Bloque 2: Dump file or dataframe parse"
   ]
  },
  {
   "cell_type": "markdown",
   "metadata": {},
   "source": [
    "Bloque 3: Creación de base de datos"
   ]
  },
  {
   "cell_type": "markdown",
   "metadata": {},
   "source": [
    "Bloque 4: Dump file to pg"
   ]
  },
  {
   "cell_type": "code",
   "execution_count": 34,
   "metadata": {},
   "outputs": [],
   "source": [
    "def config(archivo='pg.ini', seccion='postgresql'):\n",
    "    # Crear el parser y leer el archivo\n",
    "    parser = ConfigParser()\n",
    "    parser.read(archivo)\n",
    " \n",
    "    # Obtener la sección de conexión a la base de datos\n",
    "    db = {}\n",
    "    if parser.has_section(seccion):\n",
    "        params = parser.items(seccion)\n",
    "        for param in params:\n",
    "            db[param[0]] = param[1]\n",
    "        return db\n",
    "    else:\n",
    "        raise Exception('Secccion {0} no encontrada en el archivo {1}'.format(seccion, archivo))"
   ]
  },
  {
   "cell_type": "code",
   "execution_count": 40,
   "metadata": {},
   "outputs": [],
   "source": [
    "def conectar():\n",
    "    \"\"\" Conexión al servidor de pases de datos PostgreSQL \"\"\"\n",
    "    conexion = None\n",
    "    try:\n",
    "        # Lectura de los parámetros de conexion\n",
    "        params = config()\n",
    " \n",
    "        # Conexion al servidor de PostgreSQL\n",
    "        print('Conectando a la base de datos PostgreSQL...')\n",
    "        print(params)\n",
    "        conexion = psycopg2.connect(**params)\n",
    "        conexion.autocommit = True\n",
    " \n",
    "        # creación del cursor\n",
    "        cur = conexion.cursor()\n",
    "        \n",
    "        # Ejecución de una consulta con la version de PostgreSQL\n",
    "        print('La version de PostgreSQL es la:')\n",
    "        cur.execute('SELECT version()')\n",
    " \n",
    "        # Ahora mostramos la version\n",
    "        version = cur.fetchone()\n",
    "        print(version)   \n",
    "        \n",
    "        # Recorremos los resultados y los mostramos\n",
    "        \"\"\"for name, notes in cur.fetchall() :\n",
    "            print (name, notes)\"\"\"\n",
    "\n",
    "        # Cierre de la comunicación con PostgreSQL\n",
    "        conexion.commit()\n",
    "        cur.close()\n",
    "    except (Exception, psycopg2.DatabaseError) as error:\n",
    "        print(error)\n",
    "    finally:\n",
    "        if conexion is not None:\n",
    "            conexion.close()\n",
    "            print('Conexión finalizada.')"
   ]
  },
  {
   "cell_type": "code",
   "execution_count": 41,
   "metadata": {},
   "outputs": [
    {
     "name": "stdout",
     "output_type": "stream",
     "text": [
      "Conectando a la base de datos PostgreSQL...\n",
      "{'host': '192.168.1.105', 'database': 'Prueba2', 'user': 'gdeluca', 'password': 'gdeluca', 'port': '5432'}\n",
      "La version de PostgreSQL es la:\n",
      "('PostgreSQL 14.2 (Ubuntu 14.2-1ubuntu1) on x86_64-pc-linux-gnu, compiled by gcc (Ubuntu 11.2.0-19ubuntu1) 11.2.0, 64-bit',)\n",
      "Conexión finalizada.\n"
     ]
    }
   ],
   "source": [
    "conectar()"
   ]
  },
  {
   "cell_type": "code",
   "execution_count": 39,
   "metadata": {},
   "outputs": [
    {
     "ename": "UndefinedObject",
     "evalue": "type \"datetime\" does not exist\nLINE 4:  creation_date DATETIME, \n                       ^\n",
     "output_type": "error",
     "traceback": [
      "\u001b[1;31m---------------------------------------------------------------------------\u001b[0m",
      "\u001b[1;31mUndefinedObject\u001b[0m                           Traceback (most recent call last)",
      "\u001b[1;32mc:\\Users\\Innovative Pasantía\\Documents\\Proyectos\\SqliteToPostgres\\convertion.ipynb Cell 14'\u001b[0m in \u001b[0;36m<cell line: 10>\u001b[1;34m()\u001b[0m\n\u001b[0;32m      <a href='vscode-notebook-cell:/c%3A/Users/Innovative%20Pasant%C3%ADa/Documents/Proyectos/SqliteToPostgres/convertion.ipynb#ch0000013?line=8'>9</a>\u001b[0m ndf \u001b[39m=\u001b[39m aux\n\u001b[0;32m     <a href='vscode-notebook-cell:/c%3A/Users/Innovative%20Pasant%C3%ADa/Documents/Proyectos/SqliteToPostgres/convertion.ipynb#ch0000013?line=9'>10</a>\u001b[0m \u001b[39mfor\u001b[39;00m i \u001b[39min\u001b[39;00m ndf\u001b[39m.\u001b[39mindex:\n\u001b[1;32m---> <a href='vscode-notebook-cell:/c%3A/Users/Innovative%20Pasant%C3%ADa/Documents/Proyectos/SqliteToPostgres/convertion.ipynb#ch0000013?line=10'>11</a>\u001b[0m     cur\u001b[39m.\u001b[39;49mexecute(ndf[\u001b[39m'\u001b[39;49m\u001b[39msql\u001b[39;49m\u001b[39m'\u001b[39;49m][i])\n\u001b[0;32m     <a href='vscode-notebook-cell:/c%3A/Users/Innovative%20Pasant%C3%ADa/Documents/Proyectos/SqliteToPostgres/convertion.ipynb#ch0000013?line=11'>12</a>\u001b[0m \u001b[39m#cur.execute(df['sql'][2])\u001b[39;00m\n\u001b[0;32m     <a href='vscode-notebook-cell:/c%3A/Users/Innovative%20Pasant%C3%ADa/Documents/Proyectos/SqliteToPostgres/convertion.ipynb#ch0000013?line=12'>13</a>\u001b[0m \n\u001b[0;32m     <a href='vscode-notebook-cell:/c%3A/Users/Innovative%20Pasant%C3%ADa/Documents/Proyectos/SqliteToPostgres/convertion.ipynb#ch0000013?line=13'>14</a>\u001b[0m \u001b[39m# Cerramos la conexión\u001b[39;00m\n\u001b[0;32m     <a href='vscode-notebook-cell:/c%3A/Users/Innovative%20Pasant%C3%ADa/Documents/Proyectos/SqliteToPostgres/convertion.ipynb#ch0000013?line=14'>15</a>\u001b[0m conexion\u001b[39m.\u001b[39mcommit()\n",
      "\u001b[1;31mUndefinedObject\u001b[0m: type \"datetime\" does not exist\nLINE 4:  creation_date DATETIME, \n                       ^\n"
     ]
    }
   ],
   "source": [
    "# Creamos el cursor con el objeto conexion\n",
    "params=config()\n",
    "conexion = psycopg2.connect(**params)\n",
    "conexion.autocommit = True\n",
    "cur = conexion.cursor()\n",
    "\n",
    "# Ejecutamos una consulta\n",
    "#cur.execute(\"CREATE TABLE test (id serial PRIMARY KEY, num integer, data varchar);\")\n",
    "ndf = aux\n",
    "for i in ndf.index:\n",
    "    cur.execute(ndf['sql'][i])\n",
    "#cur.execute(df['sql'][2])\n",
    "\n",
    "# Cerramos la conexión\n",
    "conexion.commit()\n",
    "conexion.close()"
   ]
  }
 ],
 "metadata": {
  "interpreter": {
   "hash": "891984262b39244d60ab9166616afd0f33c577181dd2ac4640a01c29e98f0e9f"
  },
  "kernelspec": {
   "display_name": "Python 3.10.4 64-bit (system)",
   "language": "python",
   "name": "python3"
  },
  "language_info": {
   "codemirror_mode": {
    "name": "ipython",
    "version": 3
   },
   "file_extension": ".py",
   "mimetype": "text/x-python",
   "name": "python",
   "nbconvert_exporter": "python",
   "pygments_lexer": "ipython3",
   "version": "3.10.4"
  },
  "orig_nbformat": 4
 },
 "nbformat": 4,
 "nbformat_minor": 2
}
